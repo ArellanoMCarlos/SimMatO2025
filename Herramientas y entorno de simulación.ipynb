{
 "cells": [
  {
   "cell_type": "markdown",
   "id": "8f45b399",
   "metadata": {
    "id": "8f45b399"
   },
   "source": [
    "# Python\n",
    "\n",
    "### ¿Qué es un Python?\n",
    "Es un lenguaje interpretado o de script, multiplataforma, con tipado dinámico y orientado a objetos. Creado por Guido van Rossum a principios de los años 90 cuyo nombre fue inspirado en el grupo de cómicos ingleses “Monty Python”.\n",
    "\n",
    "- El tutorial de Python, Guido van Rossum.\n",
    "- https://docs.python.org/"
   ]
  },
  {
   "cell_type": "markdown",
   "id": "0653c28c",
   "metadata": {
    "id": "0653c28c"
   },
   "source": [
    "### Tipos básicos y operadores\n",
    "##### Numérico\n",
    "- Enteros (almacenamiento automático int o long)\n",
    "```python\n",
    "# ejemplos:\n",
    "a=10\n",
    "a=0x0A # hexadecimal\n",
    "a=0o12 # octal\n",
    "```"
   ]
  },
  {
   "cell_type": "code",
   "execution_count": null,
   "id": "49b36d36",
   "metadata": {},
   "outputs": [],
   "source": []
  },
  {
   "cell_type": "markdown",
   "id": "bf9ada26",
   "metadata": {
    "id": "bf9ada26"
   },
   "source": [
    "* Punto flotante (Siempre es double, estandar IEEE 754)\n",
    "    ```python\n",
    "    # ejemplo:\n",
    "    a=1.\n",
    "    ```"
   ]
  },
  {
   "cell_type": "code",
   "execution_count": null,
   "id": "9db07242",
   "metadata": {},
   "outputs": [],
   "source": []
  },
  {
   "cell_type": "markdown",
   "id": "864b72d0",
   "metadata": {
    "id": "864b72d0"
   },
   "source": [
    "- Complejo (Dos variables double)\n",
    "```python\n",
    "# ejemplo:\n",
    "a=1+1j\n",
    "```"
   ]
  },
  {
   "cell_type": "code",
   "execution_count": null,
   "id": "d6548b5f",
   "metadata": {},
   "outputs": [],
   "source": []
  },
  {
   "cell_type": "markdown",
   "id": "7deb0d24",
   "metadata": {
    "id": "7deb0d24"
   },
   "source": [
    "##### Cadena de texto\n",
    "```python\n",
    "# ejemplos:\n",
    "'Comillas simples'\n",
    "\"Comillas dobles\"\n",
    "'''Triples comillas sencillas'''\n",
    "\"\"\"Triples comillas dobles\"\"\"\n",
    "```"
   ]
  },
  {
   "cell_type": "code",
   "execution_count": null,
   "id": "95486862",
   "metadata": {},
   "outputs": [],
   "source": []
  },
  {
   "cell_type": "markdown",
   "id": "324ff92b",
   "metadata": {
    "id": "324ff92b"
   },
   "source": [
    "##### Booleano\n",
    "```python\n",
    "True, False # subclase de enteros\n",
    "```"
   ]
  },
  {
   "cell_type": "code",
   "execution_count": null,
   "id": "236f669d",
   "metadata": {},
   "outputs": [],
   "source": []
  },
  {
   "cell_type": "markdown",
   "id": "56d7f49e",
   "metadata": {
    "id": "56d7f49e"
   },
   "source": [
    "##### Arreglos\n",
    "- Mutables\n",
    "    - listas y\n",
    "    - el valor de los diccionarios\n",
    "- Inmutables\n",
    "    - tuplas,\n",
    "    - el identificador de los diccionarios y\n",
    "    - los textos."
   ]
  },
  {
   "cell_type": "code",
   "execution_count": null,
   "id": "32baf22a",
   "metadata": {},
   "outputs": [],
   "source": []
  },
  {
   "cell_type": "markdown",
   "id": "d4792b93",
   "metadata": {
    "id": "d4792b93"
   },
   "source": [
    "### Control de flujo\n",
    "Siempre dejar una sangría para diferenciar el alcance de la sentencia\n",
    "```python\n",
    "# Sentencias condicionales\n",
    "#\n",
    "if Bool:\n",
    "    Codigo_1\n",
    "Codigo_2\n",
    "#\n",
    "if Bool:\n",
    "    Secuencias_True\n",
    "else:\n",
    "    Secuencias_False\n",
    "#\n",
    "if Bool:\n",
    "    Secuencias_True\n",
    "elif Bool:\n",
    "    Secuencias_False_True\n",
    "else:\n",
    "    Secuencias_False_False\n",
    "```"
   ]
  },
  {
   "cell_type": "code",
   "execution_count": null,
   "id": "8a9bdabd",
   "metadata": {},
   "outputs": [],
   "source": []
  },
  {
   "cell_type": "markdown",
   "id": "034de2e4",
   "metadata": {
    "id": "034de2e4"
   },
   "source": [
    "```python\n",
    "# Bucles\n",
    "#\n",
    "while Bool:\n",
    "    Secuencias_True\n",
    "#\n",
    "for variable_a_iterar in arreglo_o_iterable:\n",
    "    Secuencias # variable_a_iterar toma el valor de los elementos de arreglo_o_iterable\n",
    "```"
   ]
  },
  {
   "cell_type": "code",
   "execution_count": null,
   "id": "be62bcd7",
   "metadata": {},
   "outputs": [],
   "source": []
  },
  {
   "cell_type": "markdown",
   "id": "0cb22b85",
   "metadata": {
    "id": "0cb22b85"
   },
   "source": [
    "### Funciones\n",
    "Una función es un fragmento de código con un nombre asociado que realiza una serie de tareas y regresan un valor. Las funciones se declaran de la siguiente forma:\n",
    "```python\n",
    "def nombre(argumentos):\n",
    "    secuencias_dentro_de_la_funcion\n",
    "```\n",
    "En caso de que no se especifique un valor de retorno, la función\n",
    "devuelve `None`."
   ]
  },
  {
   "cell_type": "code",
   "execution_count": null,
   "id": "64d8f3f0",
   "metadata": {},
   "outputs": [],
   "source": []
  }
 ],
 "metadata": {
  "colab": {
   "provenance": []
  },
  "kernelspec": {
   "display_name": "Python 3 (ipykernel)",
   "language": "python",
   "name": "python3"
  },
  "language_info": {
   "codemirror_mode": {
    "name": "ipython",
    "version": 3
   },
   "file_extension": ".py",
   "mimetype": "text/x-python",
   "name": "python",
   "nbconvert_exporter": "python",
   "pygments_lexer": "ipython3",
   "version": "3.8.16"
  }
 },
 "nbformat": 4,
 "nbformat_minor": 5
}
